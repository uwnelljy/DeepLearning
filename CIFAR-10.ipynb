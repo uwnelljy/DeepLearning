{
 "cells": [
  {
   "cell_type": "markdown",
   "metadata": {},
   "source": [
    "### Image recognition --- CIFAR-10"
   ]
  },
  {
   "cell_type": "code",
   "execution_count": 58,
   "metadata": {},
   "outputs": [
    {
     "name": "stdout",
     "output_type": "stream",
     "text": [
      "Files already downloaded and verified\n",
      "Files already downloaded and verified\n"
     ]
    }
   ],
   "source": [
    "# download dataset\n",
    "from torchvision import datasets\n",
    "\n",
    "data_path = './data/' # the location which the data will be downloaded\n",
    "cifar10_train = datasets.CIFAR10(data_path, train=True, download=True)\n",
    "cifar10_val = datasets.CIFAR10(data_path, train=False, download=True)"
   ]
  },
  {
   "cell_type": "code",
   "execution_count": 59,
   "metadata": {},
   "outputs": [
    {
     "data": {
      "text/plain": [
       "(<PIL.Image.Image image mode=RGB size=32x32 at 0x7FCBA0186ED0>, 1, 'car')"
      ]
     },
     "execution_count": 59,
     "metadata": {},
     "output_type": "execute_result"
    }
   ],
   "source": [
    "class_names = ('plane', 'car', 'bird', 'cat', 'deer', \n",
    "               'dog', 'frog', 'horse', 'ship', 'truck')\n",
    "img, label = cifar10_train[99]\n",
    "img, label, class_names[label]"
   ]
  },
  {
   "cell_type": "code",
   "execution_count": 60,
   "metadata": {},
   "outputs": [
    {
     "data": {
      "image/png": "[encoded data removed]",
      "text/plain": [
       "<Figure size 432x288 with 1 Axes>"
      ]
     },
     "metadata": {
      "needs_background": "light"
     },
     "output_type": "display_data"
    }
   ],
   "source": [
    "import matplotlib.pyplot as plt\n",
    "\n",
    "plt.imshow(img)\n",
    "plt.show()"
   ]
  },
  {
   "cell_type": "code",
   "execution_count": 61,
   "metadata": {},
   "outputs": [
    {
     "data": {
      "text/plain": [
       "torch.Size([3, 32, 32])"
      ]
     },
     "execution_count": 61,
     "metadata": {},
     "output_type": "execute_result"
    }
   ],
   "source": [
    "# transform img to tensor, label doesn't change\n",
    "from torchvision import transforms\n",
    "\n",
    "to_tensor = transforms.ToTensor()\n",
    "img_t = to_tensor(img)\n",
    "img_t.shape # 3 channels, 32 height, 32 width"
   ]
  },
  {
   "cell_type": "code",
   "execution_count": 62,
   "metadata": {},
   "outputs": [
    {
     "name": "stdout",
     "output_type": "stream",
     "text": [
      "torch.Size([3, 32, 32]) torch.float32\n"
     ]
    }
   ],
   "source": [
    "# transform imgs to tensor at the dataset step\n",
    "cifar10_train = datasets.CIFAR10(\n",
    "    data_path, train=True, download=False,\n",
    "    transform=transforms.ToTensor()\n",
    ")\n",
    "cifar10_val = datasets.CIFAR10(\n",
    "    data_path, train=False, download=False,\n",
    "    transform=transforms.ToTensor()\n",
    ")\n",
    "\n",
    "# check the type and dimension\n",
    "img_t, _ = cifar10_train[99]\n",
    "print(img_t.shape, img_t.dtype) # shape and dtype are not objects"
   ]
  },
  {
   "cell_type": "code",
   "execution_count": 63,
   "metadata": {},
   "outputs": [
    {
     "name": "stdout",
     "output_type": "stream",
     "text": [
      "tensor(0.) tensor(1.)\n"
     ]
    }
   ],
   "source": [
    "# what does transform do?\n",
    "print(img_t.min(), img_t.max())\n",
    "# turns data into 32-bit floating-point \n",
    "# scales the values down from 0.0 to 1.0\n",
    "# changes from H W C to C H W"
   ]
  },
  {
   "cell_type": "code",
   "execution_count": 64,
   "metadata": {},
   "outputs": [
    {
     "data": {
      "image/png": "[encoded data removed]",
      "text/plain": [
       "<Figure size 432x288 with 1 Axes>"
      ]
     },
     "metadata": {
      "needs_background": "light"
     },
     "output_type": "display_data"
    }
   ],
   "source": [
    "# whether it gets the same img\n",
    "plt.imshow(img_t.permute(1, 2, 0))\n",
    "plt.show()"
   ]
  },
  {
   "cell_type": "code",
   "execution_count": 65,
   "metadata": {},
   "outputs": [
    {
     "name": "stdout",
     "output_type": "stream",
     "text": [
      "torch.Size([3, 32, 32, 50000])\n"
     ]
    }
   ],
   "source": [
    "# normalization\n",
    "import torch as t\n",
    "\n",
    "# first calculate mean among all the images at each channel\n",
    "# stack all the imgs to one tensor\n",
    "# dim=3: stack along an extra dimension (CHW:0, 1, 2 dimension)\n",
    "imgs = t.stack([img_t for img_t, _ in cifar10_train], dim=3)\n",
    "imgs_v = t.stack([img_t for img_t, _ in cifar10_val], dim=3)\n",
    "print(imgs.shape)\n",
    "\n",
    "# compute the mean along each channel\n",
    "# view keeps the 3 channel, and merges all the remaining dimensions into one\n",
    "mean_imgs = imgs.view(3, -1).mean(dim=1)\n",
    "std_imgs = imgs.view(3, -1).std(dim=1)\n",
    "\n",
    "mean_imgs_v = imgs_v.view(3, -1).mean(dim=1)\n",
    "std_imgs_v = imgs_v.view(3, -1).std(dim=1)\n",
    "\n",
    "# concatenate it after transform\n",
    "cifar10_train = datasets.CIFAR10(\n",
    "    data_path, train=True, download=False,\n",
    "    transform=transforms.Compose([\n",
    "        transforms.ToTensor(),\n",
    "        transforms.Normalize(mean_imgs, std_imgs)\n",
    "    ])   \n",
    ")\n",
    "\n",
    "cifar10_test = datasets.CIFAR10(\n",
    "    data_path, train=False, download=False,\n",
    "    transform=transforms.Compose([\n",
    "        transforms.ToTensor(),\n",
    "        transforms.Normalize(mean_imgs_v, std_imgs_v)\n",
    "    ])\n",
    ")"
   ]
  },
  {
   "cell_type": "code",
   "execution_count": 66,
   "metadata": {},
   "outputs": [
    {
     "name": "stdout",
     "output_type": "stream",
     "text": [
      "tensor([0.4914, 0.4822, 0.4465]) tensor([0.2470, 0.2435, 0.2616])\n"
     ]
    }
   ],
   "source": [
    "print(mean_imgs, std_imgs)"
   ]
  },
  {
   "cell_type": "code",
   "execution_count": 67,
   "metadata": {},
   "outputs": [
    {
     "name": "stderr",
     "output_type": "stream",
     "text": [
      "Clipping input data to the valid range for imshow with RGB data ([0..1] for floats or [0..255] for integers).\n"
     ]
    },
    {
     "data": {
      "image/png": "[encoded data removed]",
      "text/plain": [
       "<Figure size 432x288 with 1 Axes>"
      ]
     },
     "metadata": {
      "needs_background": "light"
     },
     "output_type": "display_data"
    }
   ],
   "source": [
    "# plot normalized img\n",
    "img_t, _ = cifar10_train[99]\n",
    "\n",
    "plt.imshow(img_t.permute(1, 2, 0))\n",
    "plt.show()"
   ]
  },
  {
   "cell_type": "markdown",
   "metadata": {},
   "source": [
    "### Tell bird and plane apart"
   ]
  },
  {
   "cell_type": "code",
   "execution_count": 68,
   "metadata": {},
   "outputs": [],
   "source": [
    "# subclass of datasets only containing bird and plane\n",
    "# label: plane--0, bird--2\n",
    "label_map = {0: 0, 2: 1}\n",
    "label_name = ['plane', 'bird']\n",
    "\n",
    "cifar10_birdplane_train = [(img, label_map[label])\n",
    "                           for img, label in cifar10_train\n",
    "                           if label in label_map]\n",
    "cifar10_birdplane_test = [(img, label_map[label])\n",
    "                          for img, label in cifar10_test\n",
    "                          if label in label_map]"
   ]
  },
  {
   "cell_type": "code",
   "execution_count": 69,
   "metadata": {},
   "outputs": [
    {
     "name": "stdout",
     "output_type": "stream",
     "text": [
      "tensor([[0.0900, 0.2447, 0.6652],\n",
      "        [0.0900, 0.2447, 0.6652]])\n"
     ]
    },
    {
     "data": {
      "text/plain": [
       "tensor([0.6652, 0.6652])"
      ]
     },
     "execution_count": 69,
     "metadata": {},
     "output_type": "execute_result"
    }
   ],
   "source": [
    "import torch.nn as nn\n",
    "\n",
    "# softmax: change each value into classification probability\n",
    "x = t.tensor([[1.0, 2.0, 3.0], [1.0, 2.0, 3.0]])\n",
    "# dim =0 means count row(0) along each column\n",
    "# dim=1 means count column(1) along each row\n",
    "softmax = nn.Softmax(dim=1)\n",
    "print(softmax(x))\n",
    "\n",
    "_, pa = t.max(softmax(x), dim=1)\n",
    "_"
   ]
  },
  {
   "cell_type": "code",
   "execution_count": 70,
   "metadata": {},
   "outputs": [
    {
     "data": {
      "text/plain": [
       "tensor(0.3917, grad_fn=<NllLossBackward>)"
      ]
     },
     "execution_count": 70,
     "metadata": {},
     "output_type": "execute_result"
    }
   ],
   "source": [
    "from collections import OrderedDict\n",
    "\n",
    "# strech each img into a tensor with 3*32*32=3072 features \n",
    "img1, label1 = cifar10_birdplane_train[1]\n",
    "img_tensor = img1.view(-1).unsqueeze(0)\n",
    "\n",
    "model = nn.Sequential(OrderedDict([\n",
    "    ('hidden linear', nn.Linear(3072, 520)),\n",
    "    ('hidden activate', nn.Tanh()),\n",
    "    ('output linear', nn.Linear(520, 2)),\n",
    "    ('softmax', nn.LogSoftmax(dim=1)) # log probability for NLL loss.\n",
    "]))\n",
    "\n",
    "loss = nn.NLLLoss()\n",
    "\n",
    "output = model(img_tensor)\n",
    "\n",
    "# t.tensor([label1]) = tensor([1]), it can be converted with \n",
    "# one-hot encoding to [0, 1]\n",
    "loss(output, t.tensor([label1])) "
   ]
  },
  {
   "cell_type": "code",
   "execution_count": 71,
   "metadata": {},
   "outputs": [
    {
     "name": "stdout",
     "output_type": "stream",
     "text": [
      "epoch 10, loss 0.383636\n",
      "accuracy 0.815000\n"
     ]
    }
   ],
   "source": [
    "# work flow\n",
    "from torch import optim\n",
    "\n",
    "# load data into minibatches\n",
    "train_loader = t.utils.data.DataLoader(cifar10_birdplane_train,\n",
    "                                      batch_size=64,\n",
    "                                      shuffle=True) # shuffle at the start of each epoch\n",
    "\n",
    "n_epoches = 10\n",
    "optimizer = optim.SGD(model.parameters(), lr=1e-2)\n",
    "\n",
    "for epoch in range(1, n_epoches+1):\n",
    "    for imgs, labels in train_loader:\n",
    "        batch = imgs.shape[0] # sometimes the batch size would not be 64\n",
    "        outputs = model(imgs.view(batch, -1))\n",
    "        loss_value = loss(outputs, labels)\n",
    "        \n",
    "        optimizer.zero_grad()\n",
    "        loss_value.backward()\n",
    "        optimizer.step()\n",
    "    if epoch % 10 == 0:\n",
    "        print('epoch %d, loss %f'%(epoch, float(loss_value)))\n",
    "    \n",
    "# validation\n",
    "test_loader = t.utils.data.DataLoader(cifar10_birdplane_test,\n",
    "                                     batch_size=64,\n",
    "                                     shuffle=True)\n",
    "\n",
    "total = 0\n",
    "correct = 0\n",
    "\n",
    "with t.no_grad():# don't compute gradient\n",
    "    for imgs, labels in test_loader:\n",
    "        batch = imgs.shape[0]\n",
    "        outputs = model(imgs.view(batch, -1))\n",
    "        _, predicted = t.max(outputs, dim=1) # predicted is the predicted label\n",
    "        total += labels.shape[0]\n",
    "        # tensor could do this. == will compare each value in the tensor.\n",
    "        correct += int((predicted == labels).sum()) \n",
    "        \n",
    "    print('accuracy %f' % (correct/total))"
   ]
  },
  {
   "cell_type": "markdown",
   "metadata": {},
   "source": [
    "### Using convolution kernel"
   ]
  },
  {
   "cell_type": "code",
   "execution_count": 72,
   "metadata": {},
   "outputs": [
    {
     "name": "stdout",
     "output_type": "stream",
     "text": [
      "Conv2d(3, 16, kernel_size=(3, 3), stride=(1, 1), padding=(1, 1)) \n",
      " torch.Size([16, 3, 3, 3]) \n",
      " torch.Size([16])\n"
     ]
    }
   ],
   "source": [
    "# create convolution kernel\n",
    "# 3: input channel, 16: output channel\n",
    "# kernel_size=3 == kernel_size = (3,3)\n",
    "conv_2d = nn.Conv2d(3, 16, kernel_size=3, padding=1)\n",
    "print(conv_2d, '\\n', conv_2d.weight.shape, '\\n', conv_2d.bias.shape)"
   ]
  },
  {
   "cell_type": "code",
   "execution_count": 73,
   "metadata": {},
   "outputs": [
    {
     "name": "stderr",
     "output_type": "stream",
     "text": [
      "Clipping input data to the valid range for imshow with RGB data ([0..1] for floats or [0..255] for integers).\n"
     ]
    },
    {
     "name": "stdout",
     "output_type": "stream",
     "text": [
      "torch.Size([1, 3, 32, 32]) torch.Size([1, 16, 32, 32])\n"
     ]
    },
    {
     "data": {
      "image/png": "[encoded data removed]",
      "text/plain": [
       "<Figure size 432x288 with 1 Axes>"
      ]
     },
     "metadata": {
      "needs_background": "light"
     },
     "output_type": "display_data"
    },
    {
     "data": {
      "text/plain": [
       "<function matplotlib.pyplot.show(*args, **kw)>"
      ]
     },
     "execution_count": 73,
     "metadata": {},
     "output_type": "execute_result"
    },
    {
     "data": {
      "image/png": "[encoded data removed]",
      "text/plain": [
       "<Figure size 432x288 with 1 Axes>"
      ]
     },
     "metadata": {
      "needs_background": "light"
     },
     "output_type": "display_data"
    }
   ],
   "source": [
    "# using kernel on img\n",
    "img, _ = cifar10_birdplane_train[1]\n",
    "\n",
    "# add one dimension to indicate batch size=1 using unsqueeze(0)\n",
    "con_img = conv_2d(img.unsqueeze(0))\n",
    "print(img.unsqueeze(0).shape, con_img.shape)\n",
    "\n",
    "# img[0] means to just get the first channel, and convert it into np.array\n",
    "plt.imshow(img.permute(1, 2, 0))\n",
    "plt.show()\n",
    "# con_img[0,0] mneans to just get one batch and one channel\n",
    "plt.imshow(con_img[0, 0].detach())\n",
    "plt.show"
   ]
  },
  {
   "cell_type": "code",
   "execution_count": 74,
   "metadata": {},
   "outputs": [],
   "source": [
    "# we could decide the value of weights and bias by ourself\n",
    "with t.no_grad():\n",
    "    conv_2d.bias.zero_()\n",
    "# with t.no_grad():\n",
    "    conv_2d.weight.fill_(1.0/9.0) # mean kernel"
   ]
  },
  {
   "cell_type": "code",
   "execution_count": 75,
   "metadata": {},
   "outputs": [
    {
     "data": {
      "image/png": "[encoded data removed]",
      "text/plain": [
       "<Figure size 432x288 with 1 Axes>"
      ]
     },
     "metadata": {
      "needs_background": "light"
     },
     "output_type": "display_data"
    },
    {
     "data": {
      "image/png": "[encoded data removed]",
      "text/plain": [
       "<Figure size 432x288 with 1 Axes>"
      ]
     },
     "metadata": {
      "needs_background": "light"
     },
     "output_type": "display_data"
    }
   ],
   "source": [
    "con_img = conv_2d(img.unsqueeze(0))\n",
    "\n",
    "plt.imshow(img[0].detach(), cmap='gray')\n",
    "plt.show()\n",
    "# mean kernel generates a blurred img\n",
    "plt.imshow(con_img[0,0].detach(), cmap='gray')\n",
    "plt.show()"
   ]
  },
  {
   "cell_type": "code",
   "execution_count": 102,
   "metadata": {},
   "outputs": [],
   "source": [
    "# personalized your submodule\n",
    "import torch.nn.functional as F # functions without state\n",
    "\n",
    "class Net(nn.Module):\n",
    "    def __init__(self, n_chans1=16):\n",
    "        super().__init__()\n",
    "        self.n_chans1 = n_chans1\n",
    "        # first convolution kernel\n",
    "        self.conv1 = nn.Conv2d(3, n_chans1, kernel_size=3, padding=1)\n",
    "        \n",
    "        # pool layer. 2 means shrinking to the half of the input\n",
    "        # 32*32 -> 16*16\n",
    "        # self.pool1 = nn.MaxPool2d(2)\n",
    "        self.conv2 = nn.Conv2d(n_chans1, n_chans1//2, kernel_size=3, padding=1)\n",
    "        \n",
    "        # 16*16 -> 8*8\n",
    "        # self.pool2 = nn.MaxPool2d(2)\n",
    "        self.fc1 = nn.Linear(8*8*n_chans1//2, 32)\n",
    "        self.fc2 = nn.Linear(32, 2) # only two classes\n",
    "        \n",
    "    def forward(self, x):\n",
    "        out = t.tanh(self.conv1(x))\n",
    "        # pool 1\n",
    "        out = F.max_pool2d(out, 2)\n",
    "        out = t.tanh(self.conv2(out))\n",
    "        # pool 2\n",
    "        out = F.max_pool2d(out, 2)\n",
    "        # stretch to 8*8*8 features\n",
    "        out = out.view(-1, 8*8*self.n_chans1//2)\n",
    "        out = t.tanh(self.fc1(out))\n",
    "        out = self.fc2(out)\n",
    "        return out\n",
    "        "
   ]
  },
  {
   "cell_type": "code",
   "execution_count": 103,
   "metadata": {},
   "outputs": [
    {
     "data": {
      "text/plain": [
       "tensor([[-0.0628,  0.1771]], grad_fn=<AddmmBackward>)"
      ]
     },
     "execution_count": 103,
     "metadata": {},
     "output_type": "execute_result"
    }
   ],
   "source": [
    "# apply to one img\n",
    "model = Net()\n",
    "\n",
    "# it successfully generates two values (probabilities for two classes)\n",
    "model(img.unsqueeze(0))"
   ]
  },
  {
   "cell_type": "code",
   "execution_count": 108,
   "metadata": {},
   "outputs": [],
   "source": [
    "import time\n",
    "\n",
    "def train_loop(n_epoches, optimizer, model, loss_fn, train_loader):\n",
    "    start_time = time.time()\n",
    "    for epoch in range(1, n_epoches+1):\n",
    "        loss_train = 0\n",
    "        for imgs, labels in train_loader:\n",
    "            output = model(imgs)\n",
    "            loss = loss_fn(output, labels)\n",
    "            \n",
    "            # regularization using L2 norm lambda*sum(parameters^2)\n",
    "            l2_lambda = 0.001\n",
    "            l2_norm = sum([p.pow(2.0).sum() for p in model.parameters()])\n",
    "            loss = loss + l2_lambda * l2_norm\n",
    "            \n",
    "            optimizer.zero_grad()\n",
    "            loss.backward()\n",
    "            optimizer.step()\n",
    "            \n",
    "            loss_train += loss.item() # transform the loss to a number to escape the gradients\n",
    "        \n",
    "        if epoch % 4 == 0:\n",
    "            end_time = time.time()\n",
    "            used_time = end_time-start_time\n",
    "            print('epoch {}, training loss {}, time used {}'.format(\n",
    "                epoch, loss_train/len(train_loader), used_time))"
   ]
  },
  {
   "cell_type": "code",
   "execution_count": 109,
   "metadata": {},
   "outputs": [
    {
     "name": "stdout",
     "output_type": "stream",
     "text": [
      "epoch 4, training loss 0.4606045991372151, time used 16.86350679397583\n",
      "epoch 8, training loss 0.3790031844263623, time used 31.33685278892517\n",
      "epoch 12, training loss 0.35088771306405403, time used 45.512746810913086\n",
      "epoch 16, training loss 0.33494753167507757, time used 58.03242492675781\n",
      "epoch 20, training loss 0.32445409201133024, time used 70.461266040802\n"
     ]
    }
   ],
   "source": [
    "# train our model\n",
    "optimizer = optim.SGD(model.parameters(), lr=1e-2)\n",
    "loss_fn = nn.CrossEntropyLoss()\n",
    "\n",
    "train_loop(20, optimizer, model, loss_fn, train_loader)"
   ]
  },
  {
   "cell_type": "code",
   "execution_count": 112,
   "metadata": {},
   "outputs": [],
   "source": [
    "# measure accuracy using validation dataset\n",
    "def validate(model, train_loader, test_loader):\n",
    "    for name, data in [('train', train_loader), ('test', test_loader)]:\n",
    "        correct = 0\n",
    "        total = 0\n",
    "        \n",
    "        with t.no_grad():\n",
    "            for imgs, labels in data:\n",
    "                outputs = model(imgs)\n",
    "                _, predicted = t.max(outputs, dim=1)\n",
    "                total += labels.shape[0]\n",
    "                correct += int((predicted == labels).sum()) # similar to tensor.item()\n",
    "        \n",
    "        print('accuracy {} is {:.2f}'.format(name, correct/total))"
   ]
  },
  {
   "cell_type": "code",
   "execution_count": 113,
   "metadata": {},
   "outputs": [
    {
     "name": "stdout",
     "output_type": "stream",
     "text": [
      "accuracy train is 0.87\n",
      "accuracy test is 0.86\n"
     ]
    }
   ],
   "source": [
    "validate(model, train_loader, test_loader)"
   ]
  },
  {
   "cell_type": "code",
   "execution_count": 110,
   "metadata": {},
   "outputs": [],
   "source": [
    "# drop out to overcome overfitting\n",
    "class Netdropout(nn.Module):\n",
    "    def __init__(self, n_chans1=16):\n",
    "        super().__init__()\n",
    "        self.n_chans1 = n_chans1\n",
    "        self.conv1 = nn.Conv2d(3, n_chans1, kernel_size=3, padding=1)\n",
    "        \n",
    "        # add dropout to overcome overfitting: optional\n",
    "        self.conv1_dropout = nn.Dropout2d(p=0.4)\n",
    "        \n",
    "        self.conv2 = nn.Conv2d(n_chans1, n_chans1//2, kernel_size=3, padding=1)\n",
    "        \n",
    "        # optional\n",
    "        self.conv2_dropout = nn.Dropout2d(p=0.4)\n",
    "        \n",
    "        # 16*16 -> 8*8\n",
    "        # self.pool2 = nn.MaxPool2d(2)\n",
    "        self.fc1 = nn.Linear(8*8*n_chans1//2, 32)\n",
    "        self.fc2 = nn.Linear(32, 2) # only two classes\n",
    "        \n",
    "    def forward(self, x):\n",
    "        out = F.max_pool2d(t.tanh(self.conv1(x)), 2)\n",
    "        out = self.conv1_dropout(out)\n",
    "        out = F.max_pool2d(t.tanh(self.conv2(out)), 2)\n",
    "        out = self.conv2_dropout(out)\n",
    "        out = out.view(-1, 8*8*self.n_chans1//2)\n",
    "        out = t.tanh(self.fc1(out))\n",
    "        out = self.fc2(out)\n",
    "        return out"
   ]
  },
  {
   "cell_type": "code",
   "execution_count": 111,
   "metadata": {},
   "outputs": [
    {
     "name": "stdout",
     "output_type": "stream",
     "text": [
      "epoch 4, training loss 0.7110747896182309, time used 14.650169134140015\n",
      "epoch 8, training loss 0.7116578665508586, time used 29.230287075042725\n",
      "epoch 12, training loss 0.7115323794115881, time used 45.59626603126526\n",
      "epoch 16, training loss 0.7098782996463168, time used 59.44783401489258\n",
      "epoch 20, training loss 0.7111809633340046, time used 72.86246609687805\n"
     ]
    }
   ],
   "source": [
    "train_loop(20, optimizer, Netdropout(), loss_fn, train_loader)"
   ]
  },
  {
   "cell_type": "code",
   "execution_count": 114,
   "metadata": {},
   "outputs": [
    {
     "name": "stdout",
     "output_type": "stream",
     "text": [
      "accuracy train is 0.50\n",
      "accuracy test is 0.50\n"
     ]
    }
   ],
   "source": [
    "validate(Netdropout(), train_loader, test_loader)"
   ]
  },
  {
   "cell_type": "code",
   "execution_count": 105,
   "metadata": {},
   "outputs": [],
   "source": [
    "# batch normalization to overcome overfitting\n",
    "class Netbatch(nn.Module):\n",
    "    def __init__(self, n_chans1=16):\n",
    "        super().__init__()\n",
    "        self.n_chans1 = n_chans1\n",
    "        # first convolution kernel\n",
    "        self.conv1 = nn.Conv2d(3, n_chans1, kernel_size=3, padding=1)\n",
    "        \n",
    "        # batch normalization: optional, alleviate the need for dropout\n",
    "        # mean and std are calculated using the whole minibatch\n",
    "        self.conv1_batchnorm = nn.BatchNorm2d(num_features=n_chans1)\n",
    "        \n",
    "        # pool layer. 2 means shrinking to the half of the input\n",
    "        # 32*32 -> 16*16\n",
    "        # self.pool1 = nn.MaxPool2d(2)\n",
    "        self.conv2 = nn.Conv2d(n_chans1, n_chans1//2, kernel_size=3, padding=1)\n",
    "        \n",
    "        # optional\n",
    "        self.conv2_batchnorm = nn.BatchNorm2d(num_features=n_chans1//2)\n",
    "        \n",
    "        # 16*16 -> 8*8\n",
    "        # self.pool2 = nn.MaxPool2d(2)\n",
    "        self.fc1 = nn.Linear(8*8*n_chans1//2, 32)\n",
    "        self.fc2 = nn.Linear(32, 2) # only two classes\n",
    "        \n",
    "    def forward(self, x):\n",
    "        out = t.tanh(self.conv1_batchnorm(self.conv1(x)))\n",
    "        out = F.max_pool2d(out, 2)\n",
    "        out = t.tanh(self.conv2_batchnorm(self.conv2(out)))\n",
    "        out = F.max_pool2d(out, 2)\n",
    "        out = out.view(-1, 8*8*self.n_chans1//2)\n",
    "        out = t.tanh(self.fc1(out))\n",
    "        out = self.fc2(out)\n",
    "        return out"
   ]
  },
  {
   "cell_type": "code",
   "execution_count": 107,
   "metadata": {},
   "outputs": [],
   "source": [
    "# a net in more depth using ResNets (skip connection)\n",
    "# activate funtion: ReLU\n",
    "class Netdepth(nn.Module):\n",
    "    def __init__(self, n_chans1=16):\n",
    "        super().__init__()\n",
    "        self.n_chans1 = n_chans1\n",
    "        # first convolution kernel\n",
    "        self.conv1 = nn.Conv2d(3, n_chans1, kernel_size=3, padding=1)\n",
    "        self.conv2 = nn.Conv2d(n_chans1, n_chans1//2, kernel_size=3, padding=1)\n",
    "        # the third layer of convolution kernel\n",
    "        self.conv3 = nn.Conv2d(n_chans1//2, n_chans1//2, kernel_size=3, padding=1)\n",
    "        \n",
    "        # 16*16 -> 4*4\n",
    "        # self.pool2 = nn.MaxPool2d(2)\n",
    "        self.fc1 = nn.Linear(4*4*n_chans1//2, 32)\n",
    "        self.fc2 = nn.Linear(32, 2) # only two classes\n",
    "        \n",
    "    def forward(self, x):\n",
    "        out = F.max_pool2d(t.relu(self.conv1(x)), 2)\n",
    "        out = F.max_pool2d(t.relu(self.conv2(out)), 2)\n",
    "        out1 = out\n",
    "        out = F.max_pool2d(t.relu(self.conv3(out)) + out1, 2)\n",
    "        out = out.view(-1, 4*4*self.n_chans1//2)\n",
    "        out = t.relu(self.fc1(out))\n",
    "        out = self.fc2(out)\n",
    "        return out"
   ]
  },
  {
   "cell_type": "code",
   "execution_count": null,
   "metadata": {},
   "outputs": [],
   "source": []
  }
 ],
 "metadata": {
  "kernelspec": {
   "display_name": "Python 3",
   "language": "python",
   "name": "python3"
  },
  "language_info": {
   "codemirror_mode": {
    "name": "ipython",
    "version": 3
   },
   "file_extension": ".py",
   "mimetype": "text/x-python",
   "name": "python",
   "nbconvert_exporter": "python",
   "pygments_lexer": "ipython3",
   "version": "3.7.4"
  }
 },
 "nbformat": 4,
 "nbformat_minor": 4
}
