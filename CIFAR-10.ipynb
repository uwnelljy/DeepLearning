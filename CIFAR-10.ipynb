{
 "cells": [
  {
   "cell_type": "markdown",
   "metadata": {},
   "source": [
    "### Image recognition --- CIFAR-10"
   ]
  },
  {
   "cell_type": "code",
   "execution_count": 1,
   "metadata": {},
   "outputs": [
    {
     "name": "stdout",
     "output_type": "stream",
     "text": [
      "Files already downloaded and verified\n",
      "Files already downloaded and verified\n"
     ]
    }
   ],
   "source": [
    "# download dataset\n",
    "from torchvision import datasets\n",
    "\n",
    "data_path = './data/' # the location which the data will be downloaded\n",
    "cifar10_train = datasets.CIFAR10(data_path, train=True, download=True)\n",
    "cifar10_val = datasets.CIFAR10(data_path, train=False, download=True)"
   ]
  },
  {
   "cell_type": "code",
   "execution_count": 2,
   "metadata": {},
   "outputs": [
    {
     "data": {
      "text/plain": [
       "(<PIL.Image.Image image mode=RGB size=32x32 at 0x7F870ABBD910>, 1, 'car')"
      ]
     },
     "execution_count": 2,
     "metadata": {},
     "output_type": "execute_result"
    }
   ],
   "source": [
    "class_names = ('plane', 'car', 'bird', 'cat', 'deer', \n",
    "               'dog', 'frog', 'horse', 'ship', 'truck')\n",
    "img, label = cifar10_train[99]\n",
    "img, label, class_names[label]"
   ]
  },
  {
   "cell_type": "code",
   "execution_count": 3,
   "metadata": {},
   "outputs": [
    {
     "data": {
      "image/png": "[encoded data removed]",
      "text/plain": [
       "<Figure size 432x288 with 1 Axes>"
      ]
     },
     "metadata": {
      "needs_background": "light"
     },
     "output_type": "display_data"
    }
   ],
   "source": [
    "import matplotlib.pyplot as plt\n",
    "\n",
    "plt.imshow(img)\n",
    "plt.show()"
   ]
  },
  {
   "cell_type": "code",
   "execution_count": 4,
   "metadata": {},
   "outputs": [
    {
     "data": {
      "text/plain": [
       "torch.Size([3, 32, 32])"
      ]
     },
     "execution_count": 4,
     "metadata": {},
     "output_type": "execute_result"
    }
   ],
   "source": [
    "# transform img to tensor, label doesn't change\n",
    "from torchvision import transforms\n",
    "\n",
    "to_tensor = transforms.ToTensor()\n",
    "img_t = to_tensor(img)\n",
    "img_t.shape # 3 channels, 32 height, 32 width"
   ]
  },
  {
   "cell_type": "code",
   "execution_count": 5,
   "metadata": {},
   "outputs": [
    {
     "name": "stdout",
     "output_type": "stream",
     "text": [
      "torch.Size([3, 32, 32]) torch.float32\n"
     ]
    }
   ],
   "source": [
    "# transform imgs to tensor at the dataset step\n",
    "cifar10_train = datasets.CIFAR10(\n",
    "    data_path, train=True, download=False,\n",
    "    transform=transforms.ToTensor()\n",
    ")\n",
    "cifar10_val = datasets.CIFAR10(\n",
    "    data_path, train=False, download=False,\n",
    "    transform=transforms.ToTensor()\n",
    ")\n",
    "\n",
    "# check the type and dimension\n",
    "img_t, _ = cifar10_train[99]\n",
    "print(img_t.shape, img_t.dtype) # shape and dtype are not objects"
   ]
  },
  {
   "cell_type": "code",
   "execution_count": 6,
   "metadata": {},
   "outputs": [
    {
     "name": "stdout",
     "output_type": "stream",
     "text": [
      "tensor(0.) tensor(1.)\n"
     ]
    }
   ],
   "source": [
    "# what does transform do?\n",
    "print(img_t.min(), img_t.max())\n",
    "# turns data into 32-bit floating-point \n",
    "# scales the values down from 0.0 to 1.0\n",
    "# changes from H W C to C H W"
   ]
  },
  {
   "cell_type": "code",
   "execution_count": 7,
   "metadata": {},
   "outputs": [
    {
     "data": {
      "image/png": "[encoded data removed]",
      "text/plain": [
       "<Figure size 432x288 with 1 Axes>"
      ]
     },
     "metadata": {
      "needs_background": "light"
     },
     "output_type": "display_data"
    }
   ],
   "source": [
    "# whether it gets the same img\n",
    "plt.imshow(img_t.permute(1, 2, 0))\n",
    "plt.show()"
   ]
  },
  {
   "cell_type": "code",
   "execution_count": 8,
   "metadata": {},
   "outputs": [
    {
     "name": "stdout",
     "output_type": "stream",
     "text": [
      "torch.Size([3, 32, 32, 50000])\n"
     ]
    }
   ],
   "source": [
    "# normalization\n",
    "import torch as t\n",
    "\n",
    "# first calculate mean among all the images at each channel\n",
    "# stack all the imgs to one tensor\n",
    "# dim=3: stack along an extra dimension (CHW:0, 1, 2 dimension)\n",
    "imgs = t.stack([img_t for img_t, _ in cifar10_train], dim=3)\n",
    "imgs_v = t.stack([img_t for img_t, _ in cifar10_val], dim=3)\n",
    "print(imgs.shape)\n",
    "\n",
    "# compute the mean along each channel\n",
    "# view keeps the 3 channel, and merges all the remaining dimensions into one\n",
    "mean_imgs = imgs.view(3, -1).mean(dim=1)\n",
    "std_imgs = imgs.view(3, -1).std(dim=1)\n",
    "\n",
    "mean_imgs_v = imgs_v.view(3, -1).mean(dim=1)\n",
    "std_imgs_v = imgs_v.view(3, -1).std(dim=1)\n",
    "\n",
    "# concatenate it after transform\n",
    "cifar10_train = datasets.CIFAR10(\n",
    "    data_path, train=True, download=False,\n",
    "    transform=transforms.Compose([\n",
    "        transforms.ToTensor(),\n",
    "        transforms.Normalize(mean_imgs, std_imgs)\n",
    "    ])   \n",
    ")\n",
    "\n",
    "cifar10_test = datasets.CIFAR10(\n",
    "    data_path, train=False, download=False,\n",
    "    transform=transforms.Compose([\n",
    "        transforms.ToTensor(),\n",
    "        transforms.Normalize(mean_imgs_v, std_imgs_v)\n",
    "    ])\n",
    ")"
   ]
  },
  {
   "cell_type": "code",
   "execution_count": 9,
   "metadata": {},
   "outputs": [
    {
     "name": "stdout",
     "output_type": "stream",
     "text": [
      "tensor([0.4914, 0.4822, 0.4465]) tensor([0.2470, 0.2435, 0.2616])\n"
     ]
    }
   ],
   "source": [
    "print(mean_imgs, std_imgs)"
   ]
  },
  {
   "cell_type": "code",
   "execution_count": 10,
   "metadata": {},
   "outputs": [
    {
     "name": "stderr",
     "output_type": "stream",
     "text": [
      "Clipping input data to the valid range for imshow with RGB data ([0..1] for floats or [0..255] for integers).\n"
     ]
    },
    {
     "data": {
      "image/png": "[encoded data removed]",
      "text/plain": [
       "<Figure size 432x288 with 1 Axes>"
      ]
     },
     "metadata": {
      "needs_background": "light"
     },
     "output_type": "display_data"
    }
   ],
   "source": [
    "# plot normalized img\n",
    "img_t, _ = cifar10_train[99]\n",
    "\n",
    "plt.imshow(img_t.permute(1, 2, 0))\n",
    "plt.show()"
   ]
  },
  {
   "cell_type": "markdown",
   "metadata": {},
   "source": [
    "### Tell bird and plane apart"
   ]
  },
  {
   "cell_type": "code",
   "execution_count": 11,
   "metadata": {},
   "outputs": [],
   "source": [
    "# subclass of datasets only containing bird and plane\n",
    "# label: plane--0, bird--2\n",
    "label_map = {0: 0, 2: 1}\n",
    "label_name = ['plane', 'bird']\n",
    "\n",
    "cifar10_birdplane_train = [(img, label_map[label])\n",
    "                           for img, label in cifar10_train\n",
    "                           if label in label_map]\n",
    "cifar10_birdplane_test = [(img, label_map[label])\n",
    "                          for img, label in cifar10_test\n",
    "                          if label in label_map]"
   ]
  },
  {
   "cell_type": "code",
   "execution_count": 56,
   "metadata": {},
   "outputs": [
    {
     "name": "stdout",
     "output_type": "stream",
     "text": [
      "tensor([[0.0900, 0.2447, 0.6652],\n",
      "        [0.0900, 0.2447, 0.6652]])\n"
     ]
    },
    {
     "data": {
      "text/plain": [
       "tensor([0.6652, 0.6652])"
      ]
     },
     "execution_count": 56,
     "metadata": {},
     "output_type": "execute_result"
    }
   ],
   "source": [
    "import torch.nn as nn\n",
    "\n",
    "# softmax: change each value into classification probability\n",
    "x = t.tensor([[1.0, 2.0, 3.0], [1.0, 2.0, 3.0]])\n",
    "# dim =0 means count row(0) along each column\n",
    "# dim=1 means count column(1) along each row\n",
    "softmax = nn.Softmax(dim=1)\n",
    "print(softmax(x))\n",
    "\n",
    "_, pa = t.max(softmax(x), dim=1)\n",
    "_"
   ]
  },
  {
   "cell_type": "code",
   "execution_count": 42,
   "metadata": {},
   "outputs": [
    {
     "data": {
      "text/plain": [
       "tensor(0.5166, grad_fn=<NllLossBackward>)"
      ]
     },
     "execution_count": 42,
     "metadata": {},
     "output_type": "execute_result"
    }
   ],
   "source": [
    "from collections import OrderedDict\n",
    "\n",
    "# strech each img into a tensor with 3*32*32=3072 features \n",
    "img1, label1 = cifar10_birdplane_train[1]\n",
    "img_tensor = img1.view(-1).unsqueeze(0)\n",
    "\n",
    "model = nn.Sequential(OrderedDict([\n",
    "    ('hidden linear', nn.Linear(3072, 520)),\n",
    "    ('hidden activate', nn.Tanh()),\n",
    "    ('output linear', nn.Linear(520, 2)),\n",
    "    ('softmax', nn.LogSoftmax(dim=1)) # log probability for NLL loss.\n",
    "]))\n",
    "\n",
    "loss = nn.NLLLoss()\n",
    "\n",
    "output = model(img_tensor)\n",
    "\n",
    "# t.tensor([label1]) = tensor([1]), it can be converted with \n",
    "# one-hot encoding to [0, 1]\n",
    "loss(output, t.tensor([label1])) "
   ]
  },
  {
   "cell_type": "code",
   "execution_count": 64,
   "metadata": {},
   "outputs": [
    {
     "name": "stdout",
     "output_type": "stream",
     "text": [
      "epoch 10, loss 0.016796\n",
      "epoch 20, loss 0.008068\n",
      "epoch 30, loss 0.009563\n",
      "epoch 40, loss 0.007356\n",
      "epoch 50, loss 0.006423\n",
      "epoch 60, loss 0.006137\n",
      "epoch 70, loss 0.006891\n",
      "epoch 80, loss 0.002576\n",
      "epoch 90, loss 0.003541\n",
      "epoch 100, loss 0.004108\n",
      "accuracy 0.818000\n"
     ]
    }
   ],
   "source": [
    "# work flow\n",
    "from torch import optim\n",
    "\n",
    "# load data into minibatches\n",
    "train_loader = t.utils.data.DataLoader(cifar10_birdplane_train,\n",
    "                                      batch_size=64,\n",
    "                                      shuffle=True) # shuffle at the start of each epoch\n",
    "\n",
    "n_epoches = 100\n",
    "optimizer = optim.SGD(model.parameters(), lr=1e-2)\n",
    "\n",
    "for epoch in range(1, n_epoches+1):\n",
    "    for imgs, labels in train_loader:\n",
    "        batch = imgs.shape[0] # sometimes the batch size would not be 64\n",
    "        outputs = model(imgs.view(batch, -1))\n",
    "        loss_value = loss(outputs, labels)\n",
    "        \n",
    "        optimizer.zero_grad()\n",
    "        loss_value.backward()\n",
    "        optimizer.step()\n",
    "    if epoch % 10 == 0:\n",
    "        print('epoch %d, loss %f'%(epoch, float(loss_value)))\n",
    "    \n",
    "# validation\n",
    "test_loader = t.utils.data.DataLoader(cifar10_birdplane_test,\n",
    "                                     batch_size=64,\n",
    "                                     shuffle=True)\n",
    "\n",
    "total = 0\n",
    "correct = 0\n",
    "\n",
    "with t.no_grad():# don't compute gradient\n",
    "    for imgs, labels in test_loader:\n",
    "        batch = imgs.shape[0]\n",
    "        outputs = model(imgs.view(batch, -1))\n",
    "        _, predicted = t.max(outputs, dim=1) # predicted is the predicted label\n",
    "        total += labels.shape[0]\n",
    "        # tensor could do this. == will compare each value in the tensor.\n",
    "        correct += int((predicted == labels).sum()) \n",
    "        \n",
    "    print('accuracy %f' % (correct/total))"
   ]
  },
  {
   "cell_type": "code",
   "execution_count": null,
   "metadata": {},
   "outputs": [],
   "source": []
  }
 ],
 "metadata": {
  "kernelspec": {
   "display_name": "Python 3",
   "language": "python",
   "name": "python3"
  },
  "language_info": {
   "codemirror_mode": {
    "name": "ipython",
    "version": 3
   },
   "file_extension": ".py",
   "mimetype": "text/x-python",
   "name": "python",
   "nbconvert_exporter": "python",
   "pygments_lexer": "ipython3",
   "version": "3.7.4"
  }
 },
 "nbformat": 4,
 "nbformat_minor": 4
}
