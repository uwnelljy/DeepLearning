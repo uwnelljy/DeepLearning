{
 "cells": [
  {
   "cell_type": "code",
   "execution_count": 10,
   "metadata": {},
   "outputs": [],
   "source": [
    "import torch as t\n",
    "import numpy as np"
   ]
  },
  {
   "cell_type": "code",
   "execution_count": 12,
   "metadata": {},
   "outputs": [],
   "source": [
    "# Read data\n",
    "# converters: convert data(string) to day(float)\n",
    "bikes_numpy = np.loadtxt('./data/hour-fixed.csv',\n",
    "                         dtype=np.float32,\n",
    "                         delimiter=',', \n",
    "                         skiprows=1, \n",
    "                         converters={1: lambda x: float(x[8:])})"
   ]
  },
  {
   "cell_type": "code",
   "execution_count": 20,
   "metadata": {},
   "outputs": [
    {
     "data": {
      "text/plain": [
       "(torch.Size([17520, 17]), (17, 1))"
      ]
     },
     "execution_count": 20,
     "metadata": {},
     "output_type": "execute_result"
    }
   ],
   "source": [
    "# Form tensor\n",
    "bikes = t.from_numpy(bikes_numpy)\n",
    "# Get tensor shape and stride\n",
    "bikes.shape, bikes.stride()"
   ]
  },
  {
   "cell_type": "code",
   "execution_count": 21,
   "metadata": {},
   "outputs": [
    {
     "data": {
      "text/plain": [
       "(torch.Size([730, 24, 17]), (408, 17, 1))"
      ]
     },
     "execution_count": 21,
     "metadata": {},
     "output_type": "execute_result"
    }
   ],
   "source": [
    "# Convert tensor shape from 2D to 3D(day, hour, column)\n",
    "# Here 24 means 24 hours per day(data is sorted in advance)\n",
    "daily_bikes = bikes.view(-1, 24, bikes.shape[1])\n",
    "daily_bikes.shape, daily_bikes.stride()"
   ]
  },
  {
   "cell_type": "code",
   "execution_count": 22,
   "metadata": {},
   "outputs": [
    {
     "data": {
      "text/plain": [
       "(torch.Size([730, 17, 24]), (408, 1, 17))"
      ]
     },
     "execution_count": 22,
     "metadata": {},
     "output_type": "execute_result"
    }
   ],
   "source": [
    "# Transpose the tensor to desired ordering Depth(channel)*Width*Height\n",
    "# Here Depth is day, width is hour, height is column\n",
    "# Before tanspose: Day*column*hour, which could be identified from stride\n",
    "# After tanspose: Day*hour*column\n",
    "daily_bikes = daily_bikes.transpose(1, 2)\n",
    "daily_bikes.shape, daily_bikes.stride()"
   ]
  },
  {
   "cell_type": "code",
   "execution_count": 47,
   "metadata": {},
   "outputs": [],
   "source": [
    "# Create a 3D zero tensor with shape(730, 4, 24)\n",
    "# 4 means: 1 for really good weather, and 4 for really bad\n",
    "daily_weather_onehot = t.zeros(daily_bikes.shape[0], 4,\n",
    "                              daily_bikes.shape[2])\n",
    "# Scatter the one-hot encoding into the zero tensor in the second dimension(dim=1)\n",
    "daily_weather_onehot.scatter_(dim=1,\n",
    "                             index=daily_bikes[:, 9, :].unsqueeze(1).long()-1,\n",
    "                             value=1.0)\n",
    "# Then concatenate along the second dimension(dim=1)\n",
    "daily_bikes = t.cat((daily_bikes, daily_weather_onehot), dim=1)"
   ]
  },
  {
   "cell_type": "code",
   "execution_count": 49,
   "metadata": {},
   "outputs": [],
   "source": [
    "# Rescaling or Normalization\n",
    "temperature = daily_bikes[:, 10, :]\n",
    "temp_min = t.min(temperature)\n",
    "temp_max = t.max(temperature)\n",
    "daily_bikes[:, 10, :] = (daily_bikes[:, 10, :]-temp_min)/(temp_max-temp_min)\n",
    "# Other methods: subtract the mean and divide by the standard deviation"
   ]
  },
  {
   "cell_type": "code",
   "execution_count": null,
   "metadata": {},
   "outputs": [],
   "source": []
  }
 ],
 "metadata": {
  "kernelspec": {
   "display_name": "Python 3",
   "language": "python",
   "name": "python3"
  },
  "language_info": {
   "codemirror_mode": {
    "name": "ipython",
    "version": 3
   },
   "file_extension": ".py",
   "mimetype": "text/x-python",
   "name": "python",
   "nbconvert_exporter": "python",
   "pygments_lexer": "ipython3",
   "version": "3.7.4"
  }
 },
 "nbformat": 4,
 "nbformat_minor": 4
}
