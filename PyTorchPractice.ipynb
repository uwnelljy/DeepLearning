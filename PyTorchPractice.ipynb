{
 "cells": [
  {
   "cell_type": "markdown",
   "metadata": {},
   "source": [
    "### Understand Autograd"
   ]
  },
  {
   "cell_type": "code",
   "execution_count": 2,
   "metadata": {},
   "outputs": [],
   "source": [
    "# 1. use numpy to finish a computation\n",
    "import numpy as np\n",
    "\n",
    "np.random.seed(0)\n",
    "\n",
    "N, D = 3, 4\n",
    "\n",
    "x = np.random.randn(N, D) # standard normal distribution\n",
    "y = np.random.randn(N, D)\n",
    "z = np.random.randn(N, D)\n",
    "\n",
    "# c = (x*y+z)*1\n",
    "a = x * y\n",
    "b = a + z\n",
    "c = np.sum(b)"
   ]
  },
  {
   "cell_type": "code",
   "execution_count": 3,
   "metadata": {},
   "outputs": [
    {
     "data": {
      "text/plain": [
       "6.7170085378000675"
      ]
     },
     "execution_count": 3,
     "metadata": {},
     "output_type": "execute_result"
    }
   ],
   "source": [
    "# 2. use tensor to finish a computation\n",
    "import torch as t\n",
    "\n",
    "tx = t.from_numpy(x)\n",
    "# or you can use t.randn(N, D, requires_grad=True) to create tensor\n",
    "ty = t.from_numpy(y)\n",
    "tz = t.from_numpy(z)\n",
    "\n",
    "tx.requires_grad = True # if false then cannot calculate gradient\n",
    "\n",
    "ta = tx * ty\n",
    "tb = ta + tz\n",
    "tc = t.sum(tb)\n",
    "\n",
    "tc.item() # get value from scalar object"
   ]
  },
  {
   "cell_type": "code",
   "execution_count": 4,
   "metadata": {},
   "outputs": [
    {
     "name": "stdout",
     "output_type": "stream",
     "text": [
      "[[ 0.76103773  0.12167502  0.44386323  0.33367433]\n",
      " [ 1.49407907 -0.20515826  0.3130677  -0.85409574]\n",
      " [-2.55298982  0.6536186   0.8644362  -0.74216502]]\n"
     ]
    }
   ],
   "source": [
    "# 3. use numpy to calculate gradient\n",
    "grad_c = 1.0\n",
    "grad_b = grad_c * np.ones((N, D))\n",
    "grad_a = grad_b.copy()\n",
    "grad_z = grad_b.copy()\n",
    "grad_x = grad_a * y\n",
    "grad_y = grad_a * x\n",
    "\n",
    "print(grad_x)"
   ]
  },
  {
   "cell_type": "code",
   "execution_count": 5,
   "metadata": {},
   "outputs": [
    {
     "name": "stdout",
     "output_type": "stream",
     "text": [
      "tensor([[ 0.7610,  0.1217,  0.4439,  0.3337],\n",
      "        [ 1.4941, -0.2052,  0.3131, -0.8541],\n",
      "        [-2.5530,  0.6536,  0.8644, -0.7422]], dtype=torch.float64)\n",
      "None\n"
     ]
    }
   ],
   "source": [
    "# 4. use autograd in pytorch to calculate gradient\n",
    "tc.backward()\n",
    "print(tx.grad)\n",
    "print(ty.grad) # none because yt.requires_grad = False"
   ]
  },
  {
   "cell_type": "code",
   "execution_count": 6,
   "metadata": {},
   "outputs": [
    {
     "name": "stdout",
     "output_type": "stream",
     "text": [
      "True\n",
      "tensor(3.)\n",
      "torch.Size([])\n",
      "cpu\n",
      "None\n",
      "3.0\n"
     ]
    }
   ],
   "source": [
    "# 5. about tensor\n",
    "t1 = t.tensor(3.0, requires_grad = True)\n",
    "\n",
    "print(t1.requires_grad)\n",
    "print(t1.data)\n",
    "print(t1.shape)\n",
    "print(t1.device)\n",
    "print(t1.grad_fn)\n",
    "print(t1.tolist())"
   ]
  },
  {
   "cell_type": "code",
   "execution_count": 10,
   "metadata": {},
   "outputs": [
    {
     "data": {
      "text/plain": [
       "tensor([[ 1.7641,  0.4002,  0.9787,  2.2409],\n",
       "        [ 1.8676, -0.9773,  0.9501, -0.1514],\n",
       "        [-0.1032,  0.4106,  0.1440,  1.4543]], dtype=torch.float64,\n",
       "       requires_grad=True)"
      ]
     },
     "execution_count": 10,
     "metadata": {},
     "output_type": "execute_result"
    }
   ],
   "source": [
    "tx"
   ]
  },
  {
   "cell_type": "code",
   "execution_count": 11,
   "metadata": {},
   "outputs": [
    {
     "data": {
      "text/plain": [
       "tensor([[[ 1.7641,  0.4002,  0.9787,  2.2409],\n",
       "         [ 1.8676, -0.9773,  0.9501, -0.1514],\n",
       "         [-0.1032,  0.4106,  0.1440,  1.4543]]], dtype=torch.float64,\n",
       "       grad_fn=<UnsqueezeBackward0>)"
      ]
     },
     "execution_count": 11,
     "metadata": {},
     "output_type": "execute_result"
    }
   ],
   "source": [
    "tx[None]"
   ]
  },
  {
   "cell_type": "code",
   "execution_count": 18,
   "metadata": {},
   "outputs": [],
   "source": [
    "img_t = t.ones(3, 5, 5)"
   ]
  },
  {
   "cell_type": "code",
   "execution_count": 29,
   "metadata": {},
   "outputs": [
    {
     "data": {
      "text/plain": [
       "tensor([[5., 5., 5., 5., 5.],\n",
       "        [5., 5., 5., 5., 5.],\n",
       "        [5., 5., 5., 5., 5.]])"
      ]
     },
     "execution_count": 29,
     "metadata": {},
     "output_type": "execute_result"
    }
   ],
   "source": [
    "img_t.sum(-2)"
   ]
  },
  {
   "cell_type": "code",
   "execution_count": 30,
   "metadata": {},
   "outputs": [],
   "source": [
    "weights = t.tensor([0.2, 0.7, 0.1])"
   ]
  },
  {
   "cell_type": "code",
   "execution_count": 37,
   "metadata": {},
   "outputs": [],
   "source": [
    "unsqueezed_weights = weights.unsqueeze(-1).unsqueeze_(-1)"
   ]
  },
  {
   "cell_type": "code",
   "execution_count": 40,
   "metadata": {},
   "outputs": [
    {
     "data": {
      "text/plain": [
       "(torch.Size([3, 1, 1]), torch.Size([3, 5, 5]))"
      ]
     },
     "execution_count": 40,
     "metadata": {},
     "output_type": "execute_result"
    }
   ],
   "source": [
    "unsqueezed_weights.shape, img_t.shape"
   ]
  },
  {
   "cell_type": "code",
   "execution_count": 44,
   "metadata": {},
   "outputs": [
    {
     "data": {
      "text/plain": [
       "tensor([[[0.2000, 0.2000, 0.2000, 0.2000, 0.2000],\n",
       "         [0.2000, 0.2000, 0.2000, 0.2000, 0.2000],\n",
       "         [0.2000, 0.2000, 0.2000, 0.2000, 0.2000],\n",
       "         [0.2000, 0.2000, 0.2000, 0.2000, 0.2000],\n",
       "         [0.2000, 0.2000, 0.2000, 0.2000, 0.2000]],\n",
       "\n",
       "        [[0.7000, 0.7000, 0.7000, 0.7000, 0.7000],\n",
       "         [0.7000, 0.7000, 0.7000, 0.7000, 0.7000],\n",
       "         [0.7000, 0.7000, 0.7000, 0.7000, 0.7000],\n",
       "         [0.7000, 0.7000, 0.7000, 0.7000, 0.7000],\n",
       "         [0.7000, 0.7000, 0.7000, 0.7000, 0.7000]],\n",
       "\n",
       "        [[0.1000, 0.1000, 0.1000, 0.1000, 0.1000],\n",
       "         [0.1000, 0.1000, 0.1000, 0.1000, 0.1000],\n",
       "         [0.1000, 0.1000, 0.1000, 0.1000, 0.1000],\n",
       "         [0.1000, 0.1000, 0.1000, 0.1000, 0.1000],\n",
       "         [0.1000, 0.1000, 0.1000, 0.1000, 0.1000]]])"
      ]
     },
     "execution_count": 44,
     "metadata": {},
     "output_type": "execute_result"
    }
   ],
   "source": [
    "img_t* unsqueezed_weights"
   ]
  },
  {
   "cell_type": "code",
   "execution_count": null,
   "metadata": {},
   "outputs": [],
   "source": []
  }
 ],
 "metadata": {
  "kernelspec": {
   "display_name": "Python 3",
   "language": "python",
   "name": "python3"
  },
  "language_info": {
   "codemirror_mode": {
    "name": "ipython",
    "version": 3
   },
   "file_extension": ".py",
   "mimetype": "text/x-python",
   "name": "python",
   "nbconvert_exporter": "python",
   "pygments_lexer": "ipython3",
   "version": "3.7.4"
  }
 },
 "nbformat": 4,
 "nbformat_minor": 4
}
